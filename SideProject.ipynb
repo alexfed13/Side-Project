{
 "cells": [
  {
   "cell_type": "code",
   "execution_count": 9,
   "id": "1b452855-f0d4-4def-8573-518ec0327b75",
   "metadata": {
    "tags": []
   },
   "outputs": [
    {
     "name": "stdout",
     "output_type": "stream",
     "text": [
      "       #     Country GDP  (nominal, 2022)  GDP  (abbrev.) GDP growth  \\\n",
      "59    60    Ethiopia     $126,783,000,000    $127 billion      5.32%   \n",
      "141  142  Tajikistan      $10,492,123,388  $10.49 billion      8.00%   \n",
      "83    84     Myanmar      $59,364,362,541  $59.36 billion      3.00%   \n",
      "85    86       Sudan      $51,662,241,775  $51.66 billion     -0.95%   \n",
      "156  157     Lesotho       $2,553,459,763   $2.55 billion      0.59%   \n",
      "\n",
      "     Population  (2022) GDP per capita Share of  World GDP  \n",
      "59            123379924         $1,028               0.13%  \n",
      "141             9952787         $1,054               0.01%  \n",
      "83             54179306         $1,096               0.06%  \n",
      "85             46874204         $1,102               0.05%  \n",
      "156             2305825         $1,107               0.00%  \n",
      "       #      Country GDP  (nominal, 2022)  GDP  (abbrev.) GDP growth  \\\n",
      "133  134       Rwanda      $13,312,796,765  $13.31 billion      8.16%   \n",
      "89    90       Uganda      $45,559,202,049  $45.56 billion      4.65%   \n",
      "19    20  Switzerland     $807,706,000,000    $808 billion      2.06%   \n",
      "143  144         Togo       $8,126,439,481   $8.13 billion      5.81%   \n",
      "135  136    Mauritius      $12,898,307,089  $12.90 billion      8.69%   \n",
      "\n",
      "     Population  (2022) GDP per capita Share of  World GDP  \n",
      "133            13776698           $966               0.01%  \n",
      "89             47249585           $964               0.05%  \n",
      "19              8740472        $92,410               0.80%  \n",
      "143             8848699           $918               0.01%  \n",
      "135             1299469         $9,926               0.01%  \n"
     ]
    }
   ],
   "source": [
    "import pandas as pd\n",
    "\n",
    "import requests\n",
    "url = 'https://www.worldometers.info/gdp/gdp-by-country/'\n",
    "html = requests.get(url).content\n",
    "df_list = pd.read_html(html)\n",
    "df = df_list[-1]\n",
    "#Reading the data from a csv file\n",
    "#dfx = pd.read_csv('gdp.csv')\n",
    "df.to_csv('gdp_data_v2.csv')\n",
    "dfx = df.sort_values(by='GDP per capita')\n",
    "#Checking data structure and overall quality\n",
    "\n",
    "gdp_bottom5 = dfx.head(5)\n",
    "gdp_top5 = dfx.tail(5).sort_values(by='GDP per capita',ascending=False)\n",
    "\n",
    "print(gdp_bottom5)\n",
    "print(gdp_top5)\n"
   ]
  },
  {
   "cell_type": "code",
   "execution_count": null,
   "id": "a0485130-d0ac-4ba1-8d2b-70b0b2541221",
   "metadata": {},
   "outputs": [],
   "source": []
  }
 ],
 "metadata": {
  "kernelspec": {
   "display_name": "Python 3 (ipykernel)",
   "language": "python",
   "name": "python3"
  },
  "language_info": {
   "codemirror_mode": {
    "name": "ipython",
    "version": 3
   },
   "file_extension": ".py",
   "mimetype": "text/x-python",
   "name": "python",
   "nbconvert_exporter": "python",
   "pygments_lexer": "ipython3",
   "version": "3.11.5"
  }
 },
 "nbformat": 4,
 "nbformat_minor": 5
}
